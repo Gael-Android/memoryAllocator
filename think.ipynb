{
 "cells": [
  {
   "metadata": {
    "ExecuteTime": {
     "end_time": "2024-05-30T04:11:40.089108Z",
     "start_time": "2024-05-30T04:11:40.050422Z"
    }
   },
   "cell_type": "code",
   "source": [
    "a_counter = 0\n",
    "f_counter = 0\n",
    "naive_total_memory_alloc = 0\n",
    "show_distribution = []\n",
    "\n",
    "with open(\"./input.txt\", \"r\") as file:\n",
    "    n = 0\n",
    "    for line in file:\n",
    "        # print(line)\n",
    "        req = line.split()\n",
    "        if req[0] == 'a':\n",
    "            a_counter += 1\n",
    "            naive_total_memory_alloc += int(req[2])\n",
    "            show_distribution.append(int(req[2]))\n",
    "        elif req[0] == 'f':\n",
    "            f_counter += 1\n",
    "\n",
    "        n += 1\n",
    "        \n",
    "    # 삭제보다 할당이 더 많다!\n",
    "    # a_counter: 100000\n",
    "    # f_counter: 16704\n",
    "    # 즉 탐색이 병합보다 많이 일어난다.\n",
    "    # 최적값 탐색에 최적화된 자료구조를 쓰는게 낫다\n",
    "print(\"a_counter: \", a_counter)\n",
    "print(\"f_counter: \", f_counter)\n",
    "print(\"average_memory_wanted: \", naive_total_memory_alloc / a_counter)"
   ],
   "id": "664b1dee7d3fc8d2",
   "execution_count": 3,
   "outputs": []
  },
  {
   "cell_type": "code",
   "id": "initial_id",
   "metadata": {
    "collapsed": true,
    "ExecuteTime": {
     "end_time": "2024-05-30T04:11:41.036324Z",
     "start_time": "2024-05-30T04:11:40.915658Z"
    }
   },
   "source": [
    "import matplotlib.pyplot as plt\n",
    "\n",
    "my_list = show_distribution\n",
    "\n",
    "# 히스토그램으로 분포 출력\n",
    "plt.hist(my_list)\n",
    "plt.xlabel(\"memory\")\n",
    "plt.ylabel(\"frequency\")\n",
    "plt.title(\"memory distribution\")\n",
    "plt.show()\n",
    "# uniform 한 분포를 따른다. => 메모리 할당 요청 크기가 균등하게 분포되어 있다."
   ],
   "execution_count": 4,
   "outputs": []
  },
  {
   "metadata": {},
   "cell_type": "code",
   "execution_count": null,
   "source": "",
   "id": "ca2d07e7395c8767",
   "outputs": []
  }
 ],
 "metadata": {
  "kernelspec": {
   "display_name": "Python 3",
   "language": "python",
   "name": "python3"
  },
  "language_info": {
   "codemirror_mode": {
    "name": "ipython",
    "version": 2
   },
   "file_extension": ".py",
   "mimetype": "text/x-python",
   "name": "python",
   "nbconvert_exporter": "python",
   "pygments_lexer": "ipython2",
   "version": "2.7.6"
  }
 },
 "nbformat": 4,
 "nbformat_minor": 5
}
