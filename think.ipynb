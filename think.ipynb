{
 "cells": [
  {
   "cell_type": "code",
   "execution_count": null,
   "id": "initial_id",
   "metadata": {
    "collapsed": true
   },
   "outputs": [],
   "source": [
    "import matplotlib.pyplot as plt\n",
    "\n",
    "# 예시 데이터 (실제 데이터로 변경해야 합니다.)\n",
    "my_list = [2, 5, 1, 8, 3, 2, 7, 1]\n",
    "\n",
    "# 히스토그램으로 분포 출력\n",
    "plt.hist(my_list)\n",
    "plt.xlabel(\"값\")\n",
    "plt.ylabel(\"빈도\")\n",
    "plt.title(\"리스트 분포\")\n",
    "plt.show()\n",
    "\n",
    "# 추가적으로, 밀도 곡선을 함께 출력\n",
    "plt.hist(my_list, density=True)\n",
    "plt.xlabel(\"값\")\n",
    "plt.ylabel(\"밀도\")\n",
    "plt.title(\"리스트 밀도 분포\")\n",
    "plt.show()"
   ]
  }
 ],
 "metadata": {
  "kernelspec": {
   "display_name": "Python 3",
   "language": "python",
   "name": "python3"
  },
  "language_info": {
   "codemirror_mode": {
    "name": "ipython",
    "version": 2
   },
   "file_extension": ".py",
   "mimetype": "text/x-python",
   "name": "python",
   "nbconvert_exporter": "python",
   "pygments_lexer": "ipython2",
   "version": "2.7.6"
  }
 },
 "nbformat": 4,
 "nbformat_minor": 5
}
